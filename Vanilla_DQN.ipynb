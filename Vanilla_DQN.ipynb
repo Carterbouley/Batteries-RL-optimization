{
 "cells": [
  {
   "cell_type": "code",
   "execution_count": 103,
   "metadata": {},
   "outputs": [
    {
     "name": "stdout",
     "output_type": "stream",
     "text": [
      "Collecting gym\n",
      "  Downloading https://files.pythonhosted.org/packages/77/48/c43b8a72b916cc70896aa431b0fc00d1481ae34e28dc55e2144f4c77916b/gym-0.17.1.tar.gz (1.6MB)\n",
      "Requirement already satisfied: scipy in c:\\users\\admin\\anaconda3\\lib\\site-packages (from gym) (1.3.1)\n",
      "Requirement already satisfied: numpy>=1.10.4 in c:\\users\\admin\\anaconda3\\lib\\site-packages (from gym) (1.17.3)\n",
      "Requirement already satisfied: six in c:\\users\\admin\\appdata\\roaming\\python\\python37\\site-packages (from gym) (1.12.0)\n",
      "Collecting pyglet<=1.5.0,>=1.4.0\n",
      "  Downloading https://files.pythonhosted.org/packages/70/ca/20aee170afe6011e295e34b27ad7d7ccd795faba581dd3c6f7cec237f561/pyglet-1.5.0-py2.py3-none-any.whl (1.0MB)\n",
      "Requirement already satisfied: cloudpickle<1.4.0,>=1.2.0 in c:\\users\\admin\\anaconda3\\lib\\site-packages (from gym) (1.2.2)\n",
      "Requirement already satisfied: future in c:\\users\\admin\\anaconda3\\lib\\site-packages (from pyglet<=1.5.0,>=1.4.0->gym) (0.17.1)\n",
      "Building wheels for collected packages: gym\n",
      "  Building wheel for gym (setup.py): started\n",
      "  Building wheel for gym (setup.py): finished with status 'done'\n",
      "  Created wheel for gym: filename=gym-0.17.1-cp37-none-any.whl size=1648719 sha256=9368d89f997a0f20d3fd1d1b5b609905272bd2555eb591f7439078b7e559339f\n",
      "  Stored in directory: C:\\Users\\Admin\\AppData\\Local\\pip\\Cache\\wheels\\c0\\84\\61\\523b92d88787ae29689b3cc08cf445d8d8186d7fbe1acbf87b\n",
      "Successfully built gym\n",
      "Installing collected packages: pyglet, gym\n",
      "Successfully installed gym-0.17.1 pyglet-1.5.0\n",
      "Note: you may need to restart the kernel to use updated packages.\n"
     ]
    }
   ],
   "source": [
    "pip install gym"
   ]
  },
  {
   "cell_type": "code",
   "execution_count": 213,
   "metadata": {},
   "outputs": [],
   "source": [
    "import numpy as np\n",
    "import pandas as pd\n",
    "import matplotlib.pyplot as plt\n",
    "import numpy as np\n",
    "import pandas as pd\n",
    "import torch\n",
    "import torch.nn as nn\n",
    "import torch.nn.functional as F\n",
    "import torch.optim as optim\n",
    "import time\n",
    "import torch.autograd as autograd\n",
    "import random\n",
    "\n",
    "import gym\n",
    "\n",
    "from collections import deque\n",
    "from sklearn.preprocessing import StandardScaler"
   ]
  },
  {
   "cell_type": "code",
   "execution_count": 177,
   "metadata": {},
   "outputs": [
    {
     "data": {
      "text/html": [
       "<div>\n",
       "<style scoped>\n",
       "    .dataframe tbody tr th:only-of-type {\n",
       "        vertical-align: middle;\n",
       "    }\n",
       "\n",
       "    .dataframe tbody tr th {\n",
       "        vertical-align: top;\n",
       "    }\n",
       "\n",
       "    .dataframe thead th {\n",
       "        text-align: right;\n",
       "    }\n",
       "</style>\n",
       "<table border=\"1\" class=\"dataframe\">\n",
       "  <thead>\n",
       "    <tr style=\"text-align: right;\">\n",
       "      <th></th>\n",
       "      <th>time</th>\n",
       "      <th>load</th>\n",
       "      <th>weekday</th>\n",
       "    </tr>\n",
       "  </thead>\n",
       "  <tbody>\n",
       "    <tr>\n",
       "      <th>0</th>\n",
       "      <td>2005-01-01 00:00:00+00:00</td>\n",
       "      <td>15991.34</td>\n",
       "      <td>5</td>\n",
       "    </tr>\n",
       "    <tr>\n",
       "      <th>1</th>\n",
       "      <td>2005-01-01 01:00:00+00:00</td>\n",
       "      <td>15673.12</td>\n",
       "      <td>5</td>\n",
       "    </tr>\n",
       "    <tr>\n",
       "      <th>2</th>\n",
       "      <td>2005-01-01 02:00:00+00:00</td>\n",
       "      <td>15431.81</td>\n",
       "      <td>5</td>\n",
       "    </tr>\n",
       "    <tr>\n",
       "      <th>3</th>\n",
       "      <td>2005-01-01 03:00:00+00:00</td>\n",
       "      <td>15326.48</td>\n",
       "      <td>5</td>\n",
       "    </tr>\n",
       "    <tr>\n",
       "      <th>4</th>\n",
       "      <td>2005-01-01 04:00:00+00:00</td>\n",
       "      <td>15468.59</td>\n",
       "      <td>5</td>\n",
       "    </tr>\n",
       "  </tbody>\n",
       "</table>\n",
       "</div>"
      ],
      "text/plain": [
       "                       time      load  weekday\n",
       "0 2005-01-01 00:00:00+00:00  15991.34        5\n",
       "1 2005-01-01 01:00:00+00:00  15673.12        5\n",
       "2 2005-01-01 02:00:00+00:00  15431.81        5\n",
       "3 2005-01-01 03:00:00+00:00  15326.48        5\n",
       "4 2005-01-01 04:00:00+00:00  15468.59        5"
      ]
     },
     "execution_count": 177,
     "metadata": {},
     "output_type": "execute_result"
    }
   ],
   "source": [
    "df = pd.read_csv('Sweden Load Data 2005-2017.csv')\n",
    "df.rename({'cet_cest_timestamp':'time','SE_load_actual_tso':'load'},axis='columns',inplace=True)\n",
    "\n",
    "df['time'] = pd.to_datetime(df['time'],errors='ignore', utc=True)\n",
    "df['weekday'] = df['time'].dt.weekday\n",
    "\n",
    "df.head()"
   ]
  },
  {
   "cell_type": "code",
   "execution_count": 237,
   "metadata": {},
   "outputs": [],
   "source": [
    "class DQN(nn.Module):\n",
    "    \n",
    "    def __init__(self, input_dim, output_dim):\n",
    "        super(DQN, self).__init__()\n",
    "        self.input_dim = input_dim\n",
    "        self.output_dim = output_dim\n",
    "        \n",
    "        self.fc = nn.Sequential(\n",
    "            nn.Linear(self.input_dim, 128),\n",
    "            nn.ReLU(),\n",
    "            nn.Linear(128, 256),\n",
    "            nn.ReLU(),\n",
    "            nn.Linear(256, self.output_dim)\n",
    "        )\n",
    "        \n",
    "#         self.fc = nn.Sequential(\n",
    "#             nn.Linear(self.input_dim, 32),\n",
    "#             nn.ReLU(),\n",
    "#             nn.Linear(32, 32),\n",
    "#             nn.ReLU(),\n",
    "#             nn.Linear(32, self.output_dim)\n",
    "#         )\n",
    "\n",
    "    def forward(self, state):\n",
    "        qvals = self.fc(state)\n",
    "        return qvals"
   ]
  },
  {
   "cell_type": "code",
   "execution_count": 179,
   "metadata": {},
   "outputs": [],
   "source": [
    "class BasicBuffer:\n",
    "\n",
    "    def __init__(self, max_size):\n",
    "        self.max_size = max_size\n",
    "        self.buffer = deque(maxlen=max_size)\n",
    "\n",
    "    def push(self, state, action, reward, next_state, done):\n",
    "        experience = (state, action, np.array([reward]), next_state, done)\n",
    "        self.buffer.append(experience)\n",
    "\n",
    "    def sample(self, batch_size):\n",
    "        state_batch = []\n",
    "        action_batch = []\n",
    "        reward_batch = []\n",
    "        next_state_batch = []\n",
    "        done_batch = []\n",
    "\n",
    "        batch = random.sample(self.buffer, batch_size)\n",
    "\n",
    "        for experience in batch:\n",
    "            state, action, reward, next_state, done = experience\n",
    "            state_batch.append(state)\n",
    "            action_batch.append(action)\n",
    "            reward_batch.append(reward)\n",
    "            next_state_batch.append(next_state)\n",
    "            done_batch.append(done)\n",
    "\n",
    "        return (state_batch, action_batch, reward_batch, next_state_batch, done_batch)\n",
    "\n",
    "    def sample_sequence(self, batch_size):\n",
    "        state_batch = []\n",
    "        action_batch = []\n",
    "        reward_batch = []\n",
    "        next_state_batch = []\n",
    "        done_batch = []\n",
    "\n",
    "        min_start = len(self.buffer) - batch_size\n",
    "        start = np.random.randint(0, min_start)\n",
    "\n",
    "        for sample in range(start, start + batch_size):\n",
    "            state, action, reward, next_state, done = self.buffer[start]\n",
    "            state, action, reward, next_state, done = experience\n",
    "            state_batch.append(state)\n",
    "            action_batch.append(action)\n",
    "            reward_batch.append(reward)\n",
    "            next_state_batch.append(next_state)\n",
    "            done_batch.append(done)\n",
    "\n",
    "        return (state_batch, action_batch, reward_batch, next_state_batch, done_batch)\n",
    "\n",
    "    def __len__(self):\n",
    "        return len(self.buffer)"
   ]
  },
  {
   "cell_type": "code",
   "execution_count": 201,
   "metadata": {},
   "outputs": [],
   "source": [
    "class Env:\n",
    "    def __init__(self,array_loads,array_weekdays,charge=400,action=None):\n",
    "        ###################\n",
    "        self.array_loads = array_loads\n",
    "        self.array_weekdays=array_weekdays\n",
    "        self.charge = charge\n",
    "        self.action = action\n",
    "        ###################\n",
    "        self.load_idx = 0\n",
    "        self.day_idx = 0\n",
    "        self.collection_actual_load = []\n",
    "        self.collection_rewards = []\n",
    "        self.actual_load=None\n",
    "        self.reward = 0\n",
    "        self.collection_rewards.append(self.reward)\n",
    "        self.episode=0\n",
    "        self.state_size=2\n",
    "        self.battery_bandwith = 100\n",
    "        ####################\n",
    "        self.action_space = np.array([0, 1, 2]) #np.array(['charge','discharge','wait'])\n",
    "    \n",
    "    def increase_load_counter(self):\n",
    "        self.load_idx+=1\n",
    "        \n",
    "    def increase_day_counter(self):\n",
    "        self.day_idx+=1\n",
    "        \n",
    "    def generate_input_load(self):\n",
    "        self.input_load = self.array_loads[self.load_idx]  \n",
    "            \n",
    "    def calculate_reward(self):\n",
    "        if self.charge >= 0 and self.charge <= 400:\n",
    "            self.reward += np.abs(self.calculate_cost(self.input_load) - self.calculate_cost(self.actual_load))\n",
    "            self.collection_rewards.append(self.reward)\n",
    "        else:\n",
    "            self.reward -= 1000000000\n",
    "    \n",
    "    def reset(self):\n",
    "        self.__init__(self.array_loads, self.array_weekdays)\n",
    "        self.input_load = self.array_loads[self.load_idx]\n",
    "        self.actual_load = self.input_load\n",
    "        initial_state = self.input_load, self.charge\n",
    "        return initial_state\n",
    "    \n",
    "    def step(self, action):\n",
    "        self.action = action\n",
    "        self.increase_load_counter()\n",
    "        self.generate_input_load()\n",
    "        \n",
    "        if self.action == 2: #'wait':\n",
    "            self.actual_load = self.input_load\n",
    "            self.collection_actual_load.append(self.input_load)\n",
    "            \n",
    "        elif self.action == 1: #'discharge':\n",
    "            self.actual_load = self.input_load - self.battery_bandwith\n",
    "            self.collection_actual_load.append(self.actual_load)\n",
    "            self.charge-=100\n",
    "            \n",
    "        elif self.action == 0: #'charge':\n",
    "            self.actual_load = self.input_load + self.battery_bandwith\n",
    "            self.collection_actual_load.append(self.actual_load)\n",
    "            self.charge+=100\n",
    "        \n",
    "        next_state = self.input_load, self.charge\n",
    "        \n",
    "        self.calculate_reward()\n",
    "        reward = self.reward\n",
    "        \n",
    "        done = False\n",
    "        if self.load_idx >= self.array_loads.shape[0]:\n",
    "            done = True\n",
    "            \n",
    "        return next_state, reward, done\n",
    "    \n",
    "    def calculate_cost(self, load):\n",
    "        return 5 + 0.5*load + 0.05 * load**2"
   ]
  },
  {
   "cell_type": "code",
   "execution_count": 240,
   "metadata": {},
   "outputs": [],
   "source": [
    "class DQNAgent:\n",
    "    #gamma=0.99\n",
    "    def __init__(self, env, use_conv=True, learning_rate=3e-4, gamma=0.99, buffer_size=10000):\n",
    "        self.env = env\n",
    "        self.learning_rate = learning_rate\n",
    "        self.gamma = gamma\n",
    "        self.replay_buffer = BasicBuffer(max_size=buffer_size)\n",
    "\n",
    "        self.device = torch.device(\"cuda\" if torch.cuda.is_available() else \"cpu\")\n",
    "\n",
    "#         self.use_conv = use_conv\n",
    "#         if self.use_conv:\n",
    "#             self.model = ConvDQN(env.observation_space.shape, env.action_space.n).to(self.device)\n",
    "#         else:\n",
    "        self.model = DQN(env.state_size, env.action_space.shape[0]).to(self.device)\n",
    "\n",
    "        self.optimizer = torch.optim.Adam(self.model.parameters())\n",
    "        self.MSE_loss = nn.MSELoss()\n",
    "\n",
    "    def get_action(self, state, eps=0.20):\n",
    "        state = torch.FloatTensor(state).float().unsqueeze(0).to(self.device)\n",
    "#         print(state)\n",
    "        qvals = self.model.forward(state)\n",
    "        action = np.argmax(qvals.cpu().detach().numpy())\n",
    "        \n",
    "        if(np.random.randn() < eps):\n",
    "            return np.random.choice(self.env.action_space)\n",
    "\n",
    "        return action\n",
    "\n",
    "    def compute_loss(self, batch):\n",
    "        states, actions, rewards, next_states, dones = batch\n",
    "        states = torch.FloatTensor(states).to(self.device)\n",
    "        actions = torch.LongTensor(actions).to(self.device)\n",
    "        rewards = torch.FloatTensor(rewards).to(self.device)\n",
    "        next_states = torch.FloatTensor(next_states).to(self.device)\n",
    "        dones = torch.FloatTensor(dones)\n",
    "\n",
    "        curr_Q = self.model.forward(states).gather(1, actions.unsqueeze(1))\n",
    "        curr_Q = curr_Q.squeeze(1)\n",
    "        next_Q = self.model.forward(next_states)\n",
    "        max_next_Q = torch.max(next_Q, 1)[0]\n",
    "        expected_Q = rewards.squeeze(1) + self.gamma * max_next_Q\n",
    "\n",
    "        loss = self.MSE_loss(curr_Q, expected_Q)\n",
    "        return loss\n",
    "\n",
    "    def update(self, batch_size):\n",
    "        batch = self.replay_buffer.sample(batch_size)\n",
    "        loss = self.compute_loss(batch)\n",
    "#         print(loss)\n",
    "\n",
    "        self.optimizer.zero_grad()\n",
    "        loss.backward()\n",
    "        self.optimizer.step()"
   ]
  },
  {
   "cell_type": "code",
   "execution_count": null,
   "metadata": {
    "scrolled": true
   },
   "outputs": [],
   "source": [
    "scaler = StandardScaler()\n",
    "scaler.fit([[0, -3*400], [df.load.max(), 3*400]])\n",
    "\n",
    "env = Env(df.load, df.weekday)\n",
    "agent = DQNAgent(env)\n",
    "\n",
    "episodes = 20\n",
    "batch_size = 32\n",
    "episode_rewards = []\n",
    "\n",
    "for e in range(episodes):\n",
    "    state = env.reset()\n",
    "    episode_reward = 0\n",
    "    \n",
    "    while True:\n",
    "#         print(state)\n",
    "        state_norm=scaler.transform([state])\n",
    "#         print(tuple(state_norm[0]))\n",
    "        action = agent.get_action(tuple(state_norm[0]))\n",
    "#         print(action)\n",
    "        next_state, reward, done = env.step(action)\n",
    "        next_state_norm = scaler.transform([next_state])\n",
    "        agent.replay_buffer.push(tuple(state_norm[0]), action, reward, tuple(next_state_norm[0]), done)\n",
    "        episode_reward += reward\n",
    "\n",
    "        if len(agent.replay_buffer) > batch_size:\n",
    "            agent.update(batch_size) \n",
    "\n",
    "        if done:\n",
    "            episode_rewards.append(episode_reward)\n",
    "            print(\"Episode \" + str(episode) + \": \" + str(episode_reward))\n",
    "            break\n",
    "\n",
    "        state = next_state\n",
    "              "
   ]
  },
  {
   "cell_type": "code",
   "execution_count": 120,
   "metadata": {},
   "outputs": [
    {
     "data": {
      "text/plain": [
       "array([ 0.03983449, -0.01862387,  0.0072048 ,  0.04002884])"
      ]
     },
     "execution_count": 120,
     "metadata": {},
     "output_type": "execute_result"
    }
   ],
   "source": [
    "env_id = \"CartPole-v0\"\n",
    "env_test = gym.make(env_id)\n",
    "\n",
    "env_test.reset()"
   ]
  },
  {
   "cell_type": "code",
   "execution_count": 173,
   "metadata": {},
   "outputs": [
    {
     "data": {
      "text/plain": [
       "40955.0"
      ]
     },
     "execution_count": 173,
     "metadata": {},
     "output_type": "execute_result"
    }
   ],
   "source": [
    "load = 900\n",
    "\n",
    "c1 = 5 + 0.5*load + 0.05 * load**2\n",
    "c1 "
   ]
  },
  {
   "cell_type": "code",
   "execution_count": 172,
   "metadata": {},
   "outputs": [
    {
     "data": {
      "text/plain": [
       "50505.0"
      ]
     },
     "execution_count": 172,
     "metadata": {},
     "output_type": "execute_result"
    }
   ],
   "source": [
    "load = 1000\n",
    "\n",
    "c2 = 5 + 0.5*load + 0.05 * load**2\n",
    "c2"
   ]
  },
  {
   "cell_type": "code",
   "execution_count": 174,
   "metadata": {},
   "outputs": [
    {
     "data": {
      "text/plain": [
       "-9550.0"
      ]
     },
     "execution_count": 174,
     "metadata": {},
     "output_type": "execute_result"
    }
   ],
   "source": [
    "c1 - c2"
   ]
  }
 ],
 "metadata": {
  "kernelspec": {
   "display_name": "Python 3",
   "language": "python",
   "name": "python3"
  },
  "language_info": {
   "codemirror_mode": {
    "name": "ipython",
    "version": 3
   },
   "file_extension": ".py",
   "mimetype": "text/x-python",
   "name": "python",
   "nbconvert_exporter": "python",
   "pygments_lexer": "ipython3",
   "version": "3.7.3"
  }
 },
 "nbformat": 4,
 "nbformat_minor": 2
}
