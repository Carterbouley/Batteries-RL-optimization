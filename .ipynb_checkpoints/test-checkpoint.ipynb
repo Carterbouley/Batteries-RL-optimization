{
 "cells": [
  {
   "cell_type": "markdown",
   "metadata": {},
   "source": [
    "Import libs"
   ]
  },
  {
   "cell_type": "code",
   "execution_count": 24,
   "metadata": {},
   "outputs": [],
   "source": [
    "import numpy as np\n",
    "import pandas as pd\n",
    "#switching off scientific notation\n",
    "pd.options.display.float_format = '{:.2f}'.format\n",
    "np.set_printoptions(suppress=True)"
   ]
  },
  {
   "cell_type": "markdown",
   "metadata": {},
   "source": [
    "Reading csv file and renaming columns appropriately"
   ]
  },
  {
   "cell_type": "code",
   "execution_count": 102,
   "metadata": {},
   "outputs": [],
   "source": [
    "df = pd.read_csv('Sweden Load Data 2005-2017.csv')\n",
    "df.rename({'cet_cest_timestamp':'time','SE_load_actual_tso':'load'},axis='columns',inplace=True)"
   ]
  },
  {
   "cell_type": "markdown",
   "metadata": {},
   "source": [
    "Converting time columns to datetime and extracting weekday putting it to new column in order to take count of days for RL agent to extract rewards in time."
   ]
  },
  {
   "cell_type": "code",
   "execution_count": null,
   "metadata": {},
   "outputs": [],
   "source": [
    "df['time'] = pd.to_datetime(df['time'],errors='ignore', utc=True)\n",
    "df['weekday'] = df['time'].dt.weekday"
   ]
  },
  {
   "cell_type": "code",
   "execution_count": 139,
   "metadata": {},
   "outputs": [],
   "source": [
    "#test_df = df.head(25).copy()"
   ]
  },
  {
   "cell_type": "code",
   "execution_count": 284,
   "metadata": {},
   "outputs": [],
   "source": [
    "class Agent:    \n",
    "    #class constructor function\n",
    "    def __init__(self,array_loads,array_weekdays,load_idx=0,charge=4,action_space=np.array(['charge','discharge','wait']),policy='random'):\n",
    "        #array of our loads\n",
    "        self.array_loads = array_loads\n",
    "        #array of weekdays\n",
    "        self.array_weekdays=array_weekdays\n",
    "        #load index - zero by default\n",
    "        self.load_idx = load_idx\n",
    "        #day index - zero by default\n",
    "        self.day_idx = load_idx\n",
    "        #state of charge - full(4 or 400) by default\n",
    "        self.charge = charge\n",
    "        #current policy - random by default\n",
    "        self.policy = policy\n",
    "        #empty list to collect actual load values\n",
    "        self.collection_loads = []\n",
    "        #empty list to collect rewards\n",
    "        self.collection_rewards = []\n",
    "    \n",
    "    #function to generate current load from array of loads given current index\n",
    "    def generate_curr_state(self):\n",
    "        #assigning current state to load from our array of loads given index\n",
    "        self.curr_state = self.array_loads[self.load_idx]\n",
    "        #append to collection of actual load\n",
    "        self.collection_loads.append(self.curr_state)\n",
    "        return self.curr_state\n",
    "    \n",
    "    #OUR MAIN FUNCTION - MECHANICS IS HERE\n",
    "    def take_action(self):\n",
    "        #check whether policy is random\n",
    "        if self.policy=='random':\n",
    "            #assign candidate action from uniformly distributed space of actions (wait,charge,discharge)\n",
    "            candidate_action = np.random.choice(action_space, 1)[0]\n",
    "            #check whether our action is discharge and battery has some charge\n",
    "            if candidate_action == 'discharge' and self.charge!=0:\n",
    "                #increase current load index and day index\n",
    "                self.load_idx+=1\n",
    "                self.day_idx+=1\n",
    "                #check whether next load is bigger than current,so that we can legitimately flatten it\n",
    "                if self.array_loads[self.load_idx] >= self.curr_state:\n",
    "                    #if yes - we just add current load in place of the inputted to our actual load array\n",
    "                    self.collection_loads.append(self.curr_state)\n",
    "                else:\n",
    "                    #if no - we can't flatten our curve so we write inputted load to actual load array and perform action wait\n",
    "                    self.curr_state = self.generate_curr_state()\n",
    "                #we decrease our charge by one / by 100\n",
    "                self.charge-=1\n",
    "            #check whether our action is charge and battery is not full\n",
    "            elif candidate_action == 'charge' and self.charge!=4:\n",
    "                #increase current load index and day index\n",
    "                self.load_idx+=1\n",
    "                self.day_idx+=1\n",
    "                #check whether next load is smaller than current,so that we can legitimately flatten it\n",
    "                if self.array_loads[self.load_idx] <= self.curr_state:\n",
    "                    #if yes - we just add current load in place of the inputted to our actual load array\n",
    "                    self.collection_loads.append(self.curr_state)\n",
    "                else:\n",
    "                    #if no - we can't flatten our curve so we write inputted load to actual load array and perform action wait\n",
    "                    self.curr_state = self.generate_curr_state()\n",
    "                #we increase our charge by one / by 100\n",
    "                self.charge+=1\n",
    "            #code for all other cases when our action is wait\n",
    "            else:\n",
    "                #increase current load index and day index\n",
    "                self.load_idx+=1\n",
    "                self.day_idx+=1\n",
    "                #just write inputted load to actual load array and perform action wait\n",
    "                self.curr_state = self.generate_curr_state()\n",
    "        \n",
    "        #check whether we have crossed to the next dad\n",
    "        if self.array_weekdays[self.day_idx]== self.array_weekdays[self.day_idx-1]:\n",
    "            #if no - we just add zero reward\n",
    "            self.collection_rewards.append(0)\n",
    "        else:\n",
    "            #if yes - we calculate our cost for final hour of the day and add to the list of rewards\n",
    "            cost = 5+0.5*max(self.collection_loads[:-1])+0.05*(max(self.collection_loads[:-1])**2)\n",
    "            self.collection_rewards.append(cost)\n",
    "        \n",
    "        #self.curr_reward = self.collection_rewards[-1]\n",
    "        #return (self.prev_state,candidate_action,self.curr_reward,self.curr_state)\n",
    "    def clear_collection_loads(self):\n",
    "        self.collection_loads = []"
   ]
  },
  {
   "cell_type": "markdown",
   "metadata": {},
   "source": [
    "create agent"
   ]
  },
  {
   "cell_type": "code",
   "execution_count": 255,
   "metadata": {},
   "outputs": [],
   "source": [
    "agent1 = Agent(test_df.load.values,test_df.weekday.values)\n",
    "agent1.generate_curr_state()"
   ]
  },
  {
   "cell_type": "code",
   "execution_count": 257,
   "metadata": {
    "collapsed": true
   },
   "outputs": [
    {
     "data": {
      "text/plain": [
       "{'array_loads': array([15991.34, 15673.12, 15431.81, 15326.48, 15468.59, 15717.19,\n",
       "        15936.22, 16032.7 , 16091.51, 16563.9 , 16997.13, 17120.22,\n",
       "        17237.21, 17418.9 , 17939.93, 18537.65, 18610.38, 18302.57,\n",
       "        17935.56, 17465.78, 16950.03, 16335.14, 15708.7 , 15107.03,\n",
       "        14794.95]),\n",
       " 'array_weekdays': array([5, 5, 5, 5, 5, 5, 5, 5, 5, 5, 5, 5, 5, 5, 5, 5, 5, 5, 5, 5, 5, 5,\n",
       "        5, 5, 6]),\n",
       " 'load_idx': 0,\n",
       " 'day_idx': 0,\n",
       " 'charge': 4,\n",
       " 'policy': 'random',\n",
       " 'prev_state': None,\n",
       " 'collection_loads': [15991.34],\n",
       " 'collection_rewards': [],\n",
       " 'curr_state': 15991.34}"
      ]
     },
     "execution_count": 257,
     "metadata": {},
     "output_type": "execute_result"
    }
   ],
   "source": [
    "agent1.__dict__"
   ]
  },
  {
   "cell_type": "markdown",
   "metadata": {},
   "source": [
    "First action"
   ]
  },
  {
   "cell_type": "code",
   "execution_count": 258,
   "metadata": {
    "scrolled": true
   },
   "outputs": [
    {
     "name": "stdout",
     "output_type": "stream",
     "text": [
      "wait\n"
     ]
    },
    {
     "data": {
      "text/plain": [
       "(15991.34, 'wait', 0, 15673.12)"
      ]
     },
     "execution_count": 258,
     "metadata": {},
     "output_type": "execute_result"
    }
   ],
   "source": [
    "agent1.take_action()"
   ]
  },
  {
   "cell_type": "code",
   "execution_count": 259,
   "metadata": {},
   "outputs": [
    {
     "data": {
      "text/plain": [
       "{'array_loads': array([15991.34, 15673.12, 15431.81, 15326.48, 15468.59, 15717.19,\n",
       "        15936.22, 16032.7 , 16091.51, 16563.9 , 16997.13, 17120.22,\n",
       "        17237.21, 17418.9 , 17939.93, 18537.65, 18610.38, 18302.57,\n",
       "        17935.56, 17465.78, 16950.03, 16335.14, 15708.7 , 15107.03,\n",
       "        14794.95]),\n",
       " 'array_weekdays': array([5, 5, 5, 5, 5, 5, 5, 5, 5, 5, 5, 5, 5, 5, 5, 5, 5, 5, 5, 5, 5, 5,\n",
       "        5, 5, 6]),\n",
       " 'load_idx': 1,\n",
       " 'day_idx': 1,\n",
       " 'charge': 4,\n",
       " 'policy': 'random',\n",
       " 'prev_state': 15991.34,\n",
       " 'collection_loads': [15991.34, 15673.12],\n",
       " 'collection_rewards': [0],\n",
       " 'curr_state': 15673.12,\n",
       " 'curr_reward': 0}"
      ]
     },
     "execution_count": 259,
     "metadata": {},
     "output_type": "execute_result"
    }
   ],
   "source": [
    "agent1.__dict__"
   ]
  },
  {
   "cell_type": "markdown",
   "metadata": {},
   "source": [
    "Second action"
   ]
  },
  {
   "cell_type": "code",
   "execution_count": 260,
   "metadata": {},
   "outputs": [
    {
     "name": "stdout",
     "output_type": "stream",
     "text": [
      "wait\n"
     ]
    },
    {
     "data": {
      "text/plain": [
       "(15673.12, 'wait', 0, 15431.81)"
      ]
     },
     "execution_count": 260,
     "metadata": {},
     "output_type": "execute_result"
    }
   ],
   "source": [
    "agent1.take_action()"
   ]
  },
  {
   "cell_type": "code",
   "execution_count": 261,
   "metadata": {},
   "outputs": [
    {
     "data": {
      "text/plain": [
       "{'array_loads': array([15991.34, 15673.12, 15431.81, 15326.48, 15468.59, 15717.19,\n",
       "        15936.22, 16032.7 , 16091.51, 16563.9 , 16997.13, 17120.22,\n",
       "        17237.21, 17418.9 , 17939.93, 18537.65, 18610.38, 18302.57,\n",
       "        17935.56, 17465.78, 16950.03, 16335.14, 15708.7 , 15107.03,\n",
       "        14794.95]),\n",
       " 'array_weekdays': array([5, 5, 5, 5, 5, 5, 5, 5, 5, 5, 5, 5, 5, 5, 5, 5, 5, 5, 5, 5, 5, 5,\n",
       "        5, 5, 6]),\n",
       " 'load_idx': 2,\n",
       " 'day_idx': 2,\n",
       " 'charge': 4,\n",
       " 'policy': 'random',\n",
       " 'prev_state': 15673.12,\n",
       " 'collection_loads': [15991.34, 15673.12, 15431.81],\n",
       " 'collection_rewards': [0, 0],\n",
       " 'curr_state': 15431.81,\n",
       " 'curr_reward': 0}"
      ]
     },
     "execution_count": 261,
     "metadata": {},
     "output_type": "execute_result"
    }
   ],
   "source": [
    "agent1.__dict__"
   ]
  },
  {
   "cell_type": "code",
   "execution_count": 289,
   "metadata": {},
   "outputs": [
    {
     "name": "stdout",
     "output_type": "stream",
     "text": [
      "1378453.0114575604\n"
     ]
    }
   ],
   "source": [
    "agent2 = Agent(df.load.values,df.weekday.values)\n",
    "agent2.generate_curr_state()\n",
    "for i in range(len(df)-1):\n",
    "    agent2.take_action()\n",
    "print(np.mean(agent2.collection_rewards))"
   ]
  },
  {
   "cell_type": "code",
   "execution_count": 290,
   "metadata": {},
   "outputs": [
    {
     "name": "stdout",
     "output_type": "stream",
     "text": [
      "1380690.8958933547\n"
     ]
    }
   ],
   "source": [
    "agent3 = Agent(df.load.values,df.weekday.values)\n",
    "agent3.generate_curr_state()\n",
    "for i in range(len(df)-1):\n",
    "    agent3.take_action()\n",
    "print(np.mean(agent3.collection_rewards))"
   ]
  }
 ],
 "metadata": {
  "kernelspec": {
   "display_name": "Python 3",
   "language": "python",
   "name": "python3"
  },
  "language_info": {
   "codemirror_mode": {
    "name": "ipython",
    "version": 3
   },
   "file_extension": ".py",
   "mimetype": "text/x-python",
   "name": "python",
   "nbconvert_exporter": "python",
   "pygments_lexer": "ipython3",
   "version": "3.7.3"
  },
  "toc": {
   "colors": {
    "hover_highlight": "#DAA520",
    "navigate_num": "#000000",
    "navigate_text": "#333333",
    "running_highlight": "#FF0000",
    "selected_highlight": "#FFD700",
    "sidebar_border": "#EEEEEE",
    "wrapper_background": "#FFFFFF"
   },
   "moveMenuLeft": true,
   "nav_menu": {
    "height": "11.9952px",
    "width": "251.995px"
   },
   "navigate_menu": true,
   "number_sections": true,
   "sideBar": true,
   "threshold": 4,
   "toc_cell": false,
   "toc_section_display": "block",
   "toc_window_display": false,
   "widenNotebook": false
  }
 },
 "nbformat": 4,
 "nbformat_minor": 2
}
