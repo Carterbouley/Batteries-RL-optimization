{
 "cells": [
  {
   "cell_type": "markdown",
   "metadata": {},
   "source": [
    "Import libs"
   ]
  },
  {
   "cell_type": "code",
   "execution_count": 1,
   "metadata": {},
   "outputs": [],
   "source": [
    "import numpy as np\n",
    "import pandas as pd\n",
    "import matplotlib.pyplot as plt\n",
    "#switching off scientific notation\n",
    "pd.options.display.float_format = '{:.2f}'.format\n",
    "np.set_printoptions(suppress=True)"
   ]
  },
  {
   "cell_type": "markdown",
   "metadata": {},
   "source": [
    "Reading csv file and renaming columns appropriately"
   ]
  },
  {
   "cell_type": "code",
   "execution_count": 2,
   "metadata": {},
   "outputs": [],
   "source": [
    "df = pd.read_csv('Sweden Load Data 2005-2017.csv')\n",
    "df.rename({'cet_cest_timestamp':'time','SE_load_actual_tso':'load'},axis='columns',inplace=True)"
   ]
  },
  {
   "cell_type": "markdown",
   "metadata": {},
   "source": [
    "Converting time columns to datetime and extracting weekday putting it to new column in order to take count of days for RL agent to extract rewards in time."
   ]
  },
  {
   "cell_type": "code",
   "execution_count": 3,
   "metadata": {},
   "outputs": [],
   "source": [
    "df['time'] = pd.to_datetime(df['time'],errors='ignore', utc=True)\n",
    "df['weekday'] = df['time'].dt.weekday"
   ]
  },
  {
   "cell_type": "code",
   "execution_count": 4,
   "metadata": {},
   "outputs": [
    {
     "data": {
      "text/html": [
       "<div>\n",
       "<style scoped>\n",
       "    .dataframe tbody tr th:only-of-type {\n",
       "        vertical-align: middle;\n",
       "    }\n",
       "\n",
       "    .dataframe tbody tr th {\n",
       "        vertical-align: top;\n",
       "    }\n",
       "\n",
       "    .dataframe thead th {\n",
       "        text-align: right;\n",
       "    }\n",
       "</style>\n",
       "<table border=\"1\" class=\"dataframe\">\n",
       "  <thead>\n",
       "    <tr style=\"text-align: right;\">\n",
       "      <th></th>\n",
       "      <th>time</th>\n",
       "      <th>load</th>\n",
       "      <th>weekday</th>\n",
       "    </tr>\n",
       "  </thead>\n",
       "  <tbody>\n",
       "    <tr>\n",
       "      <th>0</th>\n",
       "      <td>2005-01-01 00:00:00+00:00</td>\n",
       "      <td>15991.34</td>\n",
       "      <td>5</td>\n",
       "    </tr>\n",
       "    <tr>\n",
       "      <th>1</th>\n",
       "      <td>2005-01-01 01:00:00+00:00</td>\n",
       "      <td>15673.12</td>\n",
       "      <td>5</td>\n",
       "    </tr>\n",
       "    <tr>\n",
       "      <th>2</th>\n",
       "      <td>2005-01-01 02:00:00+00:00</td>\n",
       "      <td>15431.81</td>\n",
       "      <td>5</td>\n",
       "    </tr>\n",
       "    <tr>\n",
       "      <th>3</th>\n",
       "      <td>2005-01-01 03:00:00+00:00</td>\n",
       "      <td>15326.48</td>\n",
       "      <td>5</td>\n",
       "    </tr>\n",
       "    <tr>\n",
       "      <th>4</th>\n",
       "      <td>2005-01-01 04:00:00+00:00</td>\n",
       "      <td>15468.59</td>\n",
       "      <td>5</td>\n",
       "    </tr>\n",
       "    <tr>\n",
       "      <th>5</th>\n",
       "      <td>2005-01-01 05:00:00+00:00</td>\n",
       "      <td>15717.19</td>\n",
       "      <td>5</td>\n",
       "    </tr>\n",
       "    <tr>\n",
       "      <th>6</th>\n",
       "      <td>2005-01-01 06:00:00+00:00</td>\n",
       "      <td>15936.22</td>\n",
       "      <td>5</td>\n",
       "    </tr>\n",
       "    <tr>\n",
       "      <th>7</th>\n",
       "      <td>2005-01-01 07:00:00+00:00</td>\n",
       "      <td>16032.70</td>\n",
       "      <td>5</td>\n",
       "    </tr>\n",
       "    <tr>\n",
       "      <th>8</th>\n",
       "      <td>2005-01-01 08:00:00+00:00</td>\n",
       "      <td>16091.51</td>\n",
       "      <td>5</td>\n",
       "    </tr>\n",
       "    <tr>\n",
       "      <th>9</th>\n",
       "      <td>2005-01-01 09:00:00+00:00</td>\n",
       "      <td>16563.90</td>\n",
       "      <td>5</td>\n",
       "    </tr>\n",
       "    <tr>\n",
       "      <th>10</th>\n",
       "      <td>2005-01-01 10:00:00+00:00</td>\n",
       "      <td>16997.13</td>\n",
       "      <td>5</td>\n",
       "    </tr>\n",
       "    <tr>\n",
       "      <th>11</th>\n",
       "      <td>2005-01-01 11:00:00+00:00</td>\n",
       "      <td>17120.22</td>\n",
       "      <td>5</td>\n",
       "    </tr>\n",
       "    <tr>\n",
       "      <th>12</th>\n",
       "      <td>2005-01-01 12:00:00+00:00</td>\n",
       "      <td>17237.21</td>\n",
       "      <td>5</td>\n",
       "    </tr>\n",
       "    <tr>\n",
       "      <th>13</th>\n",
       "      <td>2005-01-01 13:00:00+00:00</td>\n",
       "      <td>17418.90</td>\n",
       "      <td>5</td>\n",
       "    </tr>\n",
       "    <tr>\n",
       "      <th>14</th>\n",
       "      <td>2005-01-01 14:00:00+00:00</td>\n",
       "      <td>17939.93</td>\n",
       "      <td>5</td>\n",
       "    </tr>\n",
       "    <tr>\n",
       "      <th>15</th>\n",
       "      <td>2005-01-01 15:00:00+00:00</td>\n",
       "      <td>18537.65</td>\n",
       "      <td>5</td>\n",
       "    </tr>\n",
       "    <tr>\n",
       "      <th>16</th>\n",
       "      <td>2005-01-01 16:00:00+00:00</td>\n",
       "      <td>18610.38</td>\n",
       "      <td>5</td>\n",
       "    </tr>\n",
       "    <tr>\n",
       "      <th>17</th>\n",
       "      <td>2005-01-01 17:00:00+00:00</td>\n",
       "      <td>18302.57</td>\n",
       "      <td>5</td>\n",
       "    </tr>\n",
       "    <tr>\n",
       "      <th>18</th>\n",
       "      <td>2005-01-01 18:00:00+00:00</td>\n",
       "      <td>17935.56</td>\n",
       "      <td>5</td>\n",
       "    </tr>\n",
       "    <tr>\n",
       "      <th>19</th>\n",
       "      <td>2005-01-01 19:00:00+00:00</td>\n",
       "      <td>17465.78</td>\n",
       "      <td>5</td>\n",
       "    </tr>\n",
       "    <tr>\n",
       "      <th>20</th>\n",
       "      <td>2005-01-01 20:00:00+00:00</td>\n",
       "      <td>16950.03</td>\n",
       "      <td>5</td>\n",
       "    </tr>\n",
       "    <tr>\n",
       "      <th>21</th>\n",
       "      <td>2005-01-01 21:00:00+00:00</td>\n",
       "      <td>16335.14</td>\n",
       "      <td>5</td>\n",
       "    </tr>\n",
       "    <tr>\n",
       "      <th>22</th>\n",
       "      <td>2005-01-01 22:00:00+00:00</td>\n",
       "      <td>15708.70</td>\n",
       "      <td>5</td>\n",
       "    </tr>\n",
       "    <tr>\n",
       "      <th>23</th>\n",
       "      <td>2005-01-01 23:00:00+00:00</td>\n",
       "      <td>15107.03</td>\n",
       "      <td>5</td>\n",
       "    </tr>\n",
       "    <tr>\n",
       "      <th>24</th>\n",
       "      <td>2005-01-02 00:00:00+00:00</td>\n",
       "      <td>14794.95</td>\n",
       "      <td>6</td>\n",
       "    </tr>\n",
       "    <tr>\n",
       "      <th>25</th>\n",
       "      <td>2005-01-02 01:00:00+00:00</td>\n",
       "      <td>14685.88</td>\n",
       "      <td>6</td>\n",
       "    </tr>\n",
       "    <tr>\n",
       "      <th>26</th>\n",
       "      <td>2005-01-02 02:00:00+00:00</td>\n",
       "      <td>14615.40</td>\n",
       "      <td>6</td>\n",
       "    </tr>\n",
       "    <tr>\n",
       "      <th>27</th>\n",
       "      <td>2005-01-02 03:00:00+00:00</td>\n",
       "      <td>14617.30</td>\n",
       "      <td>6</td>\n",
       "    </tr>\n",
       "    <tr>\n",
       "      <th>28</th>\n",
       "      <td>2005-01-02 04:00:00+00:00</td>\n",
       "      <td>14813.46</td>\n",
       "      <td>6</td>\n",
       "    </tr>\n",
       "    <tr>\n",
       "      <th>29</th>\n",
       "      <td>2005-01-02 05:00:00+00:00</td>\n",
       "      <td>15158.68</td>\n",
       "      <td>6</td>\n",
       "    </tr>\n",
       "  </tbody>\n",
       "</table>\n",
       "</div>"
      ],
      "text/plain": [
       "                        time     load  weekday\n",
       "0  2005-01-01 00:00:00+00:00 15991.34        5\n",
       "1  2005-01-01 01:00:00+00:00 15673.12        5\n",
       "2  2005-01-01 02:00:00+00:00 15431.81        5\n",
       "3  2005-01-01 03:00:00+00:00 15326.48        5\n",
       "4  2005-01-01 04:00:00+00:00 15468.59        5\n",
       "5  2005-01-01 05:00:00+00:00 15717.19        5\n",
       "6  2005-01-01 06:00:00+00:00 15936.22        5\n",
       "7  2005-01-01 07:00:00+00:00 16032.70        5\n",
       "8  2005-01-01 08:00:00+00:00 16091.51        5\n",
       "9  2005-01-01 09:00:00+00:00 16563.90        5\n",
       "10 2005-01-01 10:00:00+00:00 16997.13        5\n",
       "11 2005-01-01 11:00:00+00:00 17120.22        5\n",
       "12 2005-01-01 12:00:00+00:00 17237.21        5\n",
       "13 2005-01-01 13:00:00+00:00 17418.90        5\n",
       "14 2005-01-01 14:00:00+00:00 17939.93        5\n",
       "15 2005-01-01 15:00:00+00:00 18537.65        5\n",
       "16 2005-01-01 16:00:00+00:00 18610.38        5\n",
       "17 2005-01-01 17:00:00+00:00 18302.57        5\n",
       "18 2005-01-01 18:00:00+00:00 17935.56        5\n",
       "19 2005-01-01 19:00:00+00:00 17465.78        5\n",
       "20 2005-01-01 20:00:00+00:00 16950.03        5\n",
       "21 2005-01-01 21:00:00+00:00 16335.14        5\n",
       "22 2005-01-01 22:00:00+00:00 15708.70        5\n",
       "23 2005-01-01 23:00:00+00:00 15107.03        5\n",
       "24 2005-01-02 00:00:00+00:00 14794.95        6\n",
       "25 2005-01-02 01:00:00+00:00 14685.88        6\n",
       "26 2005-01-02 02:00:00+00:00 14615.40        6\n",
       "27 2005-01-02 03:00:00+00:00 14617.30        6\n",
       "28 2005-01-02 04:00:00+00:00 14813.46        6\n",
       "29 2005-01-02 05:00:00+00:00 15158.68        6"
      ]
     },
     "execution_count": 4,
     "metadata": {},
     "output_type": "execute_result"
    }
   ],
   "source": [
    "df.head(30)"
   ]
  },
  {
   "cell_type": "code",
   "execution_count": 18,
   "metadata": {},
   "outputs": [],
   "source": [
    "test = df.head(170).copy()\n",
    "test = df.iloc[45:100].copy()"
   ]
  },
  {
   "cell_type": "code",
   "execution_count": 6,
   "metadata": {},
   "outputs": [],
   "source": [
    "class Agent:    \n",
    "    #class constructor function\n",
    "    def __init__(self,array_loads,array_weekdays,load_idx=0,charge=4,action_space=np.array(['charge','discharge','wait']),policy='random'):\n",
    "        #array of our loads\n",
    "        self.array_loads = array_loads\n",
    "        #array of weekdays\n",
    "        self.array_weekdays=array_weekdays\n",
    "        #load index - zero by default\n",
    "        self.load_idx = load_idx\n",
    "        #day index - zero by default\n",
    "        self.day_idx = load_idx\n",
    "        #state of charge - full(4 or 400) by default\n",
    "        self.charge = charge\n",
    "        #current policy - random by default\n",
    "        self.policy = policy\n",
    "        #empty list to collect actual load values\n",
    "        self.collection_loads = []\n",
    "        #empty list to collect rewards\n",
    "        self.collection_rewards = []\n",
    "        self.action_space = action_space\n",
    "    \n",
    "    #function to generate current load from array of loads given current index\n",
    "    def generate_curr_state(self):\n",
    "        #assigning current state to load from our array of loads given index\n",
    "        self.curr_state = self.array_loads[self.load_idx]\n",
    "        #append to collection of actual load\n",
    "        self.collection_loads.append(self.curr_state)\n",
    "        return self.curr_state\n",
    "    \n",
    "    #OUR MAIN FUNCTION - MECHANICS IS HERE\n",
    "    def take_action(self):\n",
    "        #check whether policy is random\n",
    "        if self.policy=='random':\n",
    "            #assign candidate action from uniformly distributed space of actions (wait,charge,discharge)\n",
    "            candidate_action = np.random.choice(self.action_space, 1)[0]\n",
    "            #check whether our action is discharge and battery has some charge\n",
    "            if candidate_action == 'discharge' and self.charge!=0:\n",
    "                #increase current load index and day index\n",
    "                self.load_idx+=1\n",
    "                self.day_idx+=1\n",
    "                #check whether next load is bigger than current,so that we can legitimately flatten it\n",
    "                if self.array_loads[self.load_idx] >= self.curr_state:\n",
    "                    #if yes - we just add current load in place of the inputted to our actual load array\n",
    "                    self.collection_loads.append(self.curr_state)\n",
    "                else:\n",
    "                    #if no - we can't flatten our curve so we write inputted load to actual load array and perform action wait\n",
    "                    self.curr_state = self.generate_curr_state()\n",
    "                #we decrease our charge by one / by 100\n",
    "                self.charge-=1\n",
    "            #check whether our action is charge and battery is not full\n",
    "            elif candidate_action == 'charge' and self.charge!=4:\n",
    "                #increase current load index and day index\n",
    "                self.load_idx+=1\n",
    "                self.day_idx+=1\n",
    "                #check whether next load is smaller than current,so that we can legitimately flatten it\n",
    "                if self.array_loads[self.load_idx] <= self.curr_state:\n",
    "                    #if yes - we just add current load in place of the inputted to our actual load array\n",
    "                    self.collection_loads.append(self.curr_state)\n",
    "                else:\n",
    "                    #if no - we can't flatten our curve so we write inputted load to actual load array and perform action wait\n",
    "                    self.curr_state = self.generate_curr_state()\n",
    "                #we increase our charge by one / by 100\n",
    "                self.charge+=1\n",
    "            #code for all other cases when our action is wait\n",
    "            else:\n",
    "                #increase current load index and day index\n",
    "                self.load_idx+=1\n",
    "                self.day_idx+=1\n",
    "                #just write inputted load to actual load array and perform action wait\n",
    "                self.curr_state = self.generate_curr_state()\n",
    "        \n",
    "        #check whether we have crossed to the next dad\n",
    "        if self.array_weekdays[self.day_idx]== self.array_weekdays[self.day_idx-1]:\n",
    "            #if no - we just add zero reward\n",
    "            self.collection_rewards.append(0)\n",
    "        else:\n",
    "            #if yes - we calculate our cost for final hour of the day and add to the list of rewards\n",
    "            cost = 5+0.5*max(self.collection_loads[:-1])+0.05*(max(self.collection_loads[:-1])**2)\n",
    "            self.collection_rewards.append(cost)\n",
    "        \n",
    "        #self.curr_reward = self.collection_rewards[-1]\n",
    "        #return (self.prev_state,candidate_action,self.curr_reward,self.curr_state)\n",
    "    def clear_collection_loads(self):\n",
    "        self.collection_loads = []"
   ]
  },
  {
   "cell_type": "markdown",
   "metadata": {},
   "source": [
    "create agent"
   ]
  },
  {
   "cell_type": "code",
   "execution_count": 7,
   "metadata": {},
   "outputs": [
    {
     "ename": "NameError",
     "evalue": "name 'test_df' is not defined",
     "output_type": "error",
     "traceback": [
      "\u001b[1;31m---------------------------------------------------------------------------\u001b[0m",
      "\u001b[1;31mNameError\u001b[0m                                 Traceback (most recent call last)",
      "\u001b[1;32m<ipython-input-7-9b8b40b36694>\u001b[0m in \u001b[0;36m<module>\u001b[1;34m\u001b[0m\n\u001b[1;32m----> 1\u001b[1;33m \u001b[0magent1\u001b[0m \u001b[1;33m=\u001b[0m \u001b[0mAgent\u001b[0m\u001b[1;33m(\u001b[0m\u001b[0mtest_df\u001b[0m\u001b[1;33m.\u001b[0m\u001b[0mload\u001b[0m\u001b[1;33m.\u001b[0m\u001b[0mvalues\u001b[0m\u001b[1;33m,\u001b[0m\u001b[0mtest_df\u001b[0m\u001b[1;33m.\u001b[0m\u001b[0mweekday\u001b[0m\u001b[1;33m.\u001b[0m\u001b[0mvalues\u001b[0m\u001b[1;33m)\u001b[0m\u001b[1;33m\u001b[0m\u001b[1;33m\u001b[0m\u001b[0m\n\u001b[0m\u001b[0;32m      2\u001b[0m \u001b[0magent1\u001b[0m\u001b[1;33m.\u001b[0m\u001b[0mgenerate_curr_state\u001b[0m\u001b[1;33m(\u001b[0m\u001b[1;33m)\u001b[0m\u001b[1;33m\u001b[0m\u001b[1;33m\u001b[0m\u001b[0m\n",
      "\u001b[1;31mNameError\u001b[0m: name 'test_df' is not defined"
     ]
    }
   ],
   "source": [
    "agent1 = Agent(test_df.load.values,test_df.weekday.values)\n",
    "agent1.generate_curr_state()"
   ]
  },
  {
   "cell_type": "code",
   "execution_count": 257,
   "metadata": {
    "collapsed": true
   },
   "outputs": [
    {
     "data": {
      "text/plain": [
       "{'array_loads': array([15991.34, 15673.12, 15431.81, 15326.48, 15468.59, 15717.19,\n",
       "        15936.22, 16032.7 , 16091.51, 16563.9 , 16997.13, 17120.22,\n",
       "        17237.21, 17418.9 , 17939.93, 18537.65, 18610.38, 18302.57,\n",
       "        17935.56, 17465.78, 16950.03, 16335.14, 15708.7 , 15107.03,\n",
       "        14794.95]),\n",
       " 'array_weekdays': array([5, 5, 5, 5, 5, 5, 5, 5, 5, 5, 5, 5, 5, 5, 5, 5, 5, 5, 5, 5, 5, 5,\n",
       "        5, 5, 6]),\n",
       " 'load_idx': 0,\n",
       " 'day_idx': 0,\n",
       " 'charge': 4,\n",
       " 'policy': 'random',\n",
       " 'prev_state': None,\n",
       " 'collection_loads': [15991.34],\n",
       " 'collection_rewards': [],\n",
       " 'curr_state': 15991.34}"
      ]
     },
     "execution_count": 257,
     "metadata": {},
     "output_type": "execute_result"
    }
   ],
   "source": [
    "agent1.__dict__"
   ]
  },
  {
   "cell_type": "markdown",
   "metadata": {},
   "source": [
    "First action"
   ]
  },
  {
   "cell_type": "code",
   "execution_count": 258,
   "metadata": {
    "scrolled": true
   },
   "outputs": [
    {
     "name": "stdout",
     "output_type": "stream",
     "text": [
      "wait\n"
     ]
    },
    {
     "data": {
      "text/plain": [
       "(15991.34, 'wait', 0, 15673.12)"
      ]
     },
     "execution_count": 258,
     "metadata": {},
     "output_type": "execute_result"
    }
   ],
   "source": [
    "agent1.take_action()"
   ]
  },
  {
   "cell_type": "code",
   "execution_count": 259,
   "metadata": {},
   "outputs": [
    {
     "data": {
      "text/plain": [
       "{'array_loads': array([15991.34, 15673.12, 15431.81, 15326.48, 15468.59, 15717.19,\n",
       "        15936.22, 16032.7 , 16091.51, 16563.9 , 16997.13, 17120.22,\n",
       "        17237.21, 17418.9 , 17939.93, 18537.65, 18610.38, 18302.57,\n",
       "        17935.56, 17465.78, 16950.03, 16335.14, 15708.7 , 15107.03,\n",
       "        14794.95]),\n",
       " 'array_weekdays': array([5, 5, 5, 5, 5, 5, 5, 5, 5, 5, 5, 5, 5, 5, 5, 5, 5, 5, 5, 5, 5, 5,\n",
       "        5, 5, 6]),\n",
       " 'load_idx': 1,\n",
       " 'day_idx': 1,\n",
       " 'charge': 4,\n",
       " 'policy': 'random',\n",
       " 'prev_state': 15991.34,\n",
       " 'collection_loads': [15991.34, 15673.12],\n",
       " 'collection_rewards': [0],\n",
       " 'curr_state': 15673.12,\n",
       " 'curr_reward': 0}"
      ]
     },
     "execution_count": 259,
     "metadata": {},
     "output_type": "execute_result"
    }
   ],
   "source": [
    "agent1.__dict__"
   ]
  },
  {
   "cell_type": "markdown",
   "metadata": {},
   "source": [
    "Second action"
   ]
  },
  {
   "cell_type": "code",
   "execution_count": 260,
   "metadata": {},
   "outputs": [
    {
     "name": "stdout",
     "output_type": "stream",
     "text": [
      "wait\n"
     ]
    },
    {
     "data": {
      "text/plain": [
       "(15673.12, 'wait', 0, 15431.81)"
      ]
     },
     "execution_count": 260,
     "metadata": {},
     "output_type": "execute_result"
    }
   ],
   "source": [
    "agent1.take_action()"
   ]
  },
  {
   "cell_type": "code",
   "execution_count": 261,
   "metadata": {},
   "outputs": [
    {
     "data": {
      "text/plain": [
       "{'array_loads': array([15991.34, 15673.12, 15431.81, 15326.48, 15468.59, 15717.19,\n",
       "        15936.22, 16032.7 , 16091.51, 16563.9 , 16997.13, 17120.22,\n",
       "        17237.21, 17418.9 , 17939.93, 18537.65, 18610.38, 18302.57,\n",
       "        17935.56, 17465.78, 16950.03, 16335.14, 15708.7 , 15107.03,\n",
       "        14794.95]),\n",
       " 'array_weekdays': array([5, 5, 5, 5, 5, 5, 5, 5, 5, 5, 5, 5, 5, 5, 5, 5, 5, 5, 5, 5, 5, 5,\n",
       "        5, 5, 6]),\n",
       " 'load_idx': 2,\n",
       " 'day_idx': 2,\n",
       " 'charge': 4,\n",
       " 'policy': 'random',\n",
       " 'prev_state': 15673.12,\n",
       " 'collection_loads': [15991.34, 15673.12, 15431.81],\n",
       " 'collection_rewards': [0, 0],\n",
       " 'curr_state': 15431.81,\n",
       " 'curr_reward': 0}"
      ]
     },
     "execution_count": 261,
     "metadata": {},
     "output_type": "execute_result"
    }
   ],
   "source": [
    "agent1.__dict__"
   ]
  },
  {
   "cell_type": "code",
   "execution_count": 289,
   "metadata": {},
   "outputs": [
    {
     "name": "stdout",
     "output_type": "stream",
     "text": [
      "1378453.0114575604\n"
     ]
    }
   ],
   "source": [
    "agent2 = Agent(df.load.values,df.weekday.values)\n",
    "agent2.generate_curr_state()\n",
    "for i in range(len(df)-1):\n",
    "    agent2.take_action()\n",
    "print(np.mean(agent2.collection_rewards))"
   ]
  },
  {
   "cell_type": "code",
   "execution_count": 290,
   "metadata": {},
   "outputs": [
    {
     "name": "stdout",
     "output_type": "stream",
     "text": [
      "1380690.8958933547\n"
     ]
    }
   ],
   "source": [
    "agent3 = Agent(df.load.values,df.weekday.values)\n",
    "agent3.generate_curr_state()\n",
    "for i in range(len(df)-1):\n",
    "    agent3.take_action()\n",
    "print(np.mean(agent3.collection_rewards))"
   ]
  },
  {
   "cell_type": "code",
   "execution_count": 19,
   "metadata": {},
   "outputs": [
    {
     "name": "stdout",
     "output_type": "stream",
     "text": [
      "1169063.4623608333\n"
     ]
    }
   ],
   "source": [
    "agent4 = Agent(test.load.values,test.weekday.values)\n",
    "agent4.generate_curr_state()\n",
    "for i in range(len(test)-1):\n",
    "    agent4.take_action()\n",
    "print(np.mean(agent4.collection_rewards))"
   ]
  },
  {
   "cell_type": "code",
   "execution_count": 20,
   "metadata": {},
   "outputs": [
    {
     "data": {
      "image/png": "[encoded data removed]",
      "text/plain": [
       "<Figure size 1080x576 with 1 Axes>"
      ]
     },
     "metadata": {
      "needs_background": "light"
     },
     "output_type": "display_data"
    }
   ],
   "source": [
    "plt.figure(figsize=(15,8))\n",
    "plt.plot(test.time.values,test.load.values)\n",
    "plt.plot(test.time.values,agent4.collection_loads)\n",
    "plt.legend(['Real','Agent'])\n",
    "plt.show()\n",
    "#agent4.collection_loads"
   ]
  }
 ],
 "metadata": {
  "kernelspec": {
   "display_name": "Python 3",
   "language": "python",
   "name": "python3"
  },
  "language_info": {
   "codemirror_mode": {
    "name": "ipython",
    "version": 3
   },
   "file_extension": ".py",
   "mimetype": "text/x-python",
   "name": "python",
   "nbconvert_exporter": "python",
   "pygments_lexer": "ipython3",
   "version": "3.7.3"
  },
  "toc": {
   "colors": {
    "hover_highlight": "#DAA520",
    "navigate_num": "#000000",
    "navigate_text": "#333333",
    "running_highlight": "#FF0000",
    "selected_highlight": "#FFD700",
    "sidebar_border": "#EEEEEE",
    "wrapper_background": "#FFFFFF"
   },
   "moveMenuLeft": true,
   "nav_menu": {
    "height": "11.9952px",
    "width": "251.995px"
   },
   "navigate_menu": true,
   "number_sections": true,
   "sideBar": true,
   "threshold": 4,
   "toc_cell": false,
   "toc_section_display": "block",
   "toc_window_display": false,
   "widenNotebook": false
  }
 },
 "nbformat": 4,
 "nbformat_minor": 2
}
